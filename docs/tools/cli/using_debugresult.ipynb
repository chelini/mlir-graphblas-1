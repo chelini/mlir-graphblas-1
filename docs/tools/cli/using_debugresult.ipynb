{
 "cells": [
  {
   "cell_type": "markdown",
   "id": "patient-tamil",
   "metadata": {},
   "source": [
    "# Using DebugResult\n",
    "\n",
    "Here, we will show how to use `DebugResult` to debug some problems we might encounter when using our mlir-opt CLI Wrapper.\n",
    "\n",
    "Let’s first import some necessary modules and generate an instance of our mlir-opt CLI Wrapper."
   ]
  },
  {
   "cell_type": "code",
   "execution_count": 1,
   "id": "comparative-kitty",
   "metadata": {},
   "outputs": [],
   "source": [
    "from mlir_graphblas import MlirOptCli\n",
    "from mlir_graphblas.cli import DebugResult\n",
    "\n",
    "cli = MlirOptCli(executable=None, options=None)"
   ]
  },
  {
   "cell_type": "markdown",
   "id": "foster-conviction",
   "metadata": {},
   "source": [
    "## Generate Example Input\n",
    "\n",
    "Let's say we have a bunch of MLIR code that we're not familiar with. "
   ]
  },
  {
   "cell_type": "code",
   "execution_count": 2,
   "id": "intensive-player",
   "metadata": {},
   "outputs": [],
   "source": [
    "mlir_string = \"\"\"\n",
    "#trait_mul_s = {\n",
    "  indexing_maps = [\n",
    "    affine_map<(i) -> (i)>,\n",
    "    affine_map<(i) -> (i)>,\n",
    "    affine_map<(i) -> (i)>\n",
    "  ],\n",
    "  sparse = [\n",
    "    [ \"S\" ],\n",
    "    [ \"S\" ],\n",
    "    [ \"D\" ]\n",
    "  ],\n",
    "  iterator_types = [\"parallel\"],\n",
    "  doc = \"Sparse Vector Multiply\"\n",
    "}\n",
    "\n",
    "!SparseTensor = type !llvm.ptr<i8>\n",
    "func @sparse_vector_multiply(%argA: !SparseTensor, %argB: !SparseTensor) -> tensor<8xf32> {\n",
    "  %output_storage = constant dense<0.0> : tensor<8xf32>\n",
    "  %arga = linalg.sparse_tensor %argA : !SparseTensor to tensor<8xf32>\n",
    "  %argb = linalg.sparse_tensor %argB : !SparseTensor to tensor<8xf32>\n",
    "  %0 = linalg.generic #trait_mul_s\n",
    "    ins(%arga, %argb: tensor<8xf32>, tensor<8xf32>)\n",
    "    outs(%output_storage: tensor<8xf32>) {\n",
    "      ^bb(%a: f32, %b: f32, %x: f32):\n",
    "        %0 = mulf %a, %b : f32\n",
    "        linalg.yield %0 : f32\n",
    "  } -> tensor<8xf32>\n",
    "  return %0 : tensor<8xf32>\n",
    "}\n",
    "\"\"\"\n",
    "mlir_bytes = mlir_string.encode()"
   ]
  },
  {
   "cell_type": "markdown",
   "id": "informal-accounting",
   "metadata": {},
   "source": [
    "Since we're not familiar with this code, we don't exactly know what passes are necessary or in what order they should go in.\n",
    "\n",
    "Let's say that this is the first set of passes we try. "
   ]
  },
  {
   "cell_type": "code",
   "execution_count": 3,
   "id": "aggregate-point",
   "metadata": {},
   "outputs": [],
   "source": [
    "passes = [\n",
    "    \"--test-sparsification=lower\",\n",
    "    \"--linalg-bufferize\",\n",
    "    \"--func-bufferize\",\n",
    "    \"--tensor-bufferize\",\n",
    "    \"--tensor-constant-bufferize\",\n",
    "    \"--finalizing-bufferize\",\n",
    "    \"--convert-linalg-to-loops\",\n",
    "    \"--convert-scf-to-std\",\n",
    "    \"--convert-std-to-llvm\",\n",
    "]"
   ]
  },
  {
   "cell_type": "markdown",
   "id": "electronic-excitement",
   "metadata": {},
   "source": [
    "Let's see what results we get. "
   ]
  },
  {
   "cell_type": "code",
   "execution_count": 4,
   "id": "fifty-smooth",
   "metadata": {},
   "outputs": [
    {
     "ename": "MlirOptError",
     "evalue": "b\"<stdin>:22:8: error: failed to legalize operation 'scf.condition'\"",
     "output_type": "error",
     "traceback": [
      "\u001b[0;31m---------------------------------------------------------------------------\u001b[0m",
      "\u001b[0;31mMlirOptError\u001b[0m                              Traceback (most recent call last)",
      "\u001b[0;32m<ipython-input-4-8cddfef863f0>\u001b[0m in \u001b[0;36m<module>\u001b[0;34m\u001b[0m\n\u001b[0;32m----> 1\u001b[0;31m \u001b[0mresult\u001b[0m \u001b[0;34m=\u001b[0m \u001b[0mcli\u001b[0m\u001b[0;34m.\u001b[0m\u001b[0mapply_passes\u001b[0m\u001b[0;34m(\u001b[0m\u001b[0mmlir_bytes\u001b[0m\u001b[0;34m,\u001b[0m \u001b[0mpasses\u001b[0m\u001b[0;34m)\u001b[0m\u001b[0;34m\u001b[0m\u001b[0;34m\u001b[0m\u001b[0m\n\u001b[0m",
      "\u001b[0;32m~/code/mlir-graphblas/mlir_graphblas/cli.py\u001b[0m in \u001b[0;36mapply_passes\u001b[0;34m(self, file, passes)\u001b[0m\n\u001b[1;32m     60\u001b[0m         \u001b[0merr\u001b[0m \u001b[0;34m=\u001b[0m \u001b[0mMlirOptError\u001b[0m\u001b[0;34m(\u001b[0m\u001b[0mresult\u001b[0m\u001b[0;34m.\u001b[0m\u001b[0mstderr\u001b[0m\u001b[0;34m.\u001b[0m\u001b[0msplit\u001b[0m\u001b[0;34m(\u001b[0m\u001b[0;34mb\"\\n\"\u001b[0m\u001b[0;34m)\u001b[0m\u001b[0;34m[\u001b[0m\u001b[0;36m0\u001b[0m\u001b[0;34m]\u001b[0m\u001b[0;34m)\u001b[0m\u001b[0;34m\u001b[0m\u001b[0;34m\u001b[0m\u001b[0m\n\u001b[1;32m     61\u001b[0m         \u001b[0merr\u001b[0m\u001b[0;34m.\u001b[0m\u001b[0mdebug_result\u001b[0m \u001b[0;34m=\u001b[0m \u001b[0mself\u001b[0m\u001b[0;34m.\u001b[0m\u001b[0mdebug_passes\u001b[0m\u001b[0;34m(\u001b[0m\u001b[0minput\u001b[0m\u001b[0;34m,\u001b[0m \u001b[0mpasses\u001b[0m\u001b[0;34m)\u001b[0m\u001b[0;34m\u001b[0m\u001b[0;34m\u001b[0m\u001b[0m\n\u001b[0;32m---> 62\u001b[0;31m         \u001b[0;32mraise\u001b[0m \u001b[0merr\u001b[0m\u001b[0;34m\u001b[0m\u001b[0;34m\u001b[0m\u001b[0m\n\u001b[0m\u001b[1;32m     63\u001b[0m \u001b[0;34m\u001b[0m\u001b[0m\n\u001b[1;32m     64\u001b[0m     \u001b[0;32mdef\u001b[0m \u001b[0mdebug_passes\u001b[0m\u001b[0;34m(\u001b[0m\u001b[0mself\u001b[0m\u001b[0;34m,\u001b[0m \u001b[0minput\u001b[0m\u001b[0;34m:\u001b[0m \u001b[0mbytes\u001b[0m\u001b[0;34m,\u001b[0m \u001b[0mpasses\u001b[0m\u001b[0;34m:\u001b[0m \u001b[0mList\u001b[0m\u001b[0;34m[\u001b[0m\u001b[0mstr\u001b[0m\u001b[0;34m]\u001b[0m\u001b[0;34m)\u001b[0m \u001b[0;34m->\u001b[0m \u001b[0;34m\"DebugResult\"\u001b[0m\u001b[0;34m:\u001b[0m\u001b[0;34m\u001b[0m\u001b[0;34m\u001b[0m\u001b[0m\n",
      "\u001b[0;31mMlirOptError\u001b[0m: b\"<stdin>:22:8: error: failed to legalize operation 'scf.condition'\""
     ]
    }
   ],
   "source": [
    "result = cli.apply_passes(mlir_bytes, passes)"
   ]
  },
  {
   "cell_type": "markdown",
   "id": "enabling-japanese",
   "metadata": {},
   "source": [
    "We get an exception. \n",
    "\n",
    "Unfortunately, the exception message isn't very clear as it only gives us the immediate error message but doesn't inform us of the context in which it occurred, e.g. in which pass the error occurred (if any) or if any necessary passes are missing. \n",
    "\n",
    "Let's try to use the `debug_passes` method instead of the `apply_passes` to get more information. "
   ]
  },
  {
   "cell_type": "code",
   "execution_count": 5,
   "id": "broke-jones",
   "metadata": {},
   "outputs": [],
   "source": [
    "result = cli.debug_passes(mlir_bytes, passes)"
   ]
  },
  {
   "cell_type": "code",
   "execution_count": 6,
   "id": "affecting-addiction",
   "metadata": {},
   "outputs": [
    {
     "data": {
      "text/plain": [
       "=====================================\n",
       "  Error when running func-bufferize  \n",
       "=====================================\n",
       "<stdin>:26:7: error: failed to legalize operation 'scf.condition'\n",
       "      scf.condition(%16) %arg2, %arg3 : index, index\n",
       "      ^\n",
       "<stdin>:26:7: note: see current operation: \"scf.condition\"(%16, %arg2, %arg3) : (i1, index, index) -> () loc(\"<stdin>\":26:7)\n",
       "\n",
       "\n",
       "===========================\n",
       "  Input to func-bufferize  \n",
       "===========================\n",
       "            10        20        30        40        50        60        70        80        90        \n",
       "   123456789012345678901234567890123456789012345678901234567890123456789012345678901234567890123\n",
       "   ---------------------------------------------------------------------------------------------\n",
       " 1|module  {\n",
       " 2|  func private @sparseValuesF32(!llvm.ptr<i8>) -> memref<?xf32>\n",
       " 3|  func private @sparseIndices64(!llvm.ptr<i8>, index) -> memref<?xindex>\n",
       " 4|  func private @sparsePointers64(!llvm.ptr<i8>, index) -> memref<?xindex>\n",
       " 5|  func @sparse_vector_multiply(%arg0: !llvm.ptr<i8>, %arg1: !llvm.ptr<i8>) -> tensor<8xf32> {\n",
       " 6|    %cst = constant dense<0.000000e+00> : tensor<8xf32>\n",
       " 7|    %c0 = constant 0 : index\n",
       " 8|    %c1 = constant 1 : index\n",
       " 9|    %0 = call @sparsePointers64(%arg0, %c0) : (!llvm.ptr<i8>, index) -> memref<?xindex>\n",
       "10|    %1 = call @sparseIndices64(%arg0, %c0) : (!llvm.ptr<i8>, index) -> memref<?xindex>\n",
       "11|    %2 = call @sparseValuesF32(%arg0) : (!llvm.ptr<i8>) -> memref<?xf32>\n",
       "12|    %3 = call @sparsePointers64(%arg1, %c0) : (!llvm.ptr<i8>, index) -> memref<?xindex>\n",
       "13|    %4 = call @sparseIndices64(%arg1, %c0) : (!llvm.ptr<i8>, index) -> memref<?xindex>\n",
       "14|    %5 = call @sparseValuesF32(%arg1) : (!llvm.ptr<i8>) -> memref<?xf32>\n",
       "15|    %6 = tensor_to_memref %cst : memref<8xf32>\n",
       "16|    %7 = alloc() : memref<8xf32>\n",
       "17|    linalg.copy(%6, %7) : memref<8xf32>, memref<8xf32> \n",
       "18|    %8 = load %0[%c0] : memref<?xindex>\n",
       "19|    %9 = load %0[%c1] : memref<?xindex>\n",
       "20|    %10 = load %3[%c0] : memref<?xindex>\n",
       "21|    %11 = load %3[%c1] : memref<?xindex>\n",
       "22|    %12:2 = scf.while (%arg2 = %8, %arg3 = %10) : (index, index) -> (index, index) {\n",
       "23|      %14 = cmpi ult, %arg2, %9 : index\n",
       "24|      %15 = cmpi ult, %arg3, %11 : index\n",
       "25|      %16 = and %14, %15 : i1\n",
       "26|      scf.condition(%16) %arg2, %arg3 : index, index\n",
       "27|    } do {\n",
       "28|    ^bb0(%arg2: index, %arg3: index):  // no predecessors\n",
       "29|      %14 = load %1[%arg2] : memref<?xindex>\n",
       "30|      %15 = load %4[%arg3] : memref<?xindex>\n",
       "31|      %16 = cmpi ult, %15, %14 : index\n",
       "32|      %17 = select %16, %15, %14 : index\n",
       "33|      %18 = cmpi eq, %14, %17 : index\n",
       "34|      %19 = cmpi eq, %15, %17 : index\n",
       "35|      %20 = and %18, %19 : i1\n",
       "36|      scf.if %20 {\n",
       "37|        %27 = load %2[%arg2] : memref<?xf32>\n",
       "38|        %28 = load %5[%arg3] : memref<?xf32>\n",
       "39|        %29 = mulf %27, %28 : f32\n",
       "40|        store %29, %7[%17] : memref<8xf32>\n",
       "41|      } else {\n",
       "42|      }\n",
       "43|      %21 = cmpi eq, %14, %17 : index\n",
       "44|      %22 = addi %arg2, %c1 : index\n",
       "45|      %23 = select %21, %22, %arg2 : index\n",
       "46|      %24 = cmpi eq, %15, %17 : index\n",
       "47|      %25 = addi %arg3, %c1 : index\n",
       "48|      %26 = select %24, %25, %arg3 : index\n",
       "49|      scf.yield %23, %26 : index, index\n",
       "50|    }\n",
       "51|    %13 = tensor_load %7 : memref<8xf32>\n",
       "52|    return %13 : tensor<8xf32>\n",
       "53|  }\n",
       "54|}\n",
       "55|\n",
       "\n",
       "=============================\n",
       "  Input to linalg-bufferize  \n",
       "=============================\n",
       "            10        20        30        40        50        60        70        80        90        \n",
       "   123456789012345678901234567890123456789012345678901234567890123456789012345678901234567890123\n",
       "   ---------------------------------------------------------------------------------------------\n",
       " 1|module  {\n",
       " 2|  func private @sparseValuesF32(!llvm.ptr<i8>) -> memref<?xf32>\n",
       " 3|  func private @sparseIndices64(!llvm.ptr<i8>, index) -> memref<?xindex>\n",
       " 4|  func private @sparsePointers64(!llvm.ptr<i8>, index) -> memref<?xindex>\n",
       " 5|  func @sparse_vector_multiply(%arg0: !llvm.ptr<i8>, %arg1: !llvm.ptr<i8>) -> tensor<8xf32> {\n",
       " 6|    %cst = constant dense<0.000000e+00> : tensor<8xf32>\n",
       " 7|    %c0 = constant 0 : index\n",
       " 8|    %c1 = constant 1 : index\n",
       " 9|    %0 = call @sparsePointers64(%arg0, %c0) : (!llvm.ptr<i8>, index) -> memref<?xindex>\n",
       "10|    %1 = call @sparseIndices64(%arg0, %c0) : (!llvm.ptr<i8>, index) -> memref<?xindex>\n",
       "11|    %2 = call @sparseValuesF32(%arg0) : (!llvm.ptr<i8>) -> memref<?xf32>\n",
       "12|    %3 = call @sparsePointers64(%arg1, %c0) : (!llvm.ptr<i8>, index) -> memref<?xindex>\n",
       "13|    %4 = call @sparseIndices64(%arg1, %c0) : (!llvm.ptr<i8>, index) -> memref<?xindex>\n",
       "14|    %5 = call @sparseValuesF32(%arg1) : (!llvm.ptr<i8>) -> memref<?xf32>\n",
       "15|    %6 = tensor_to_memref %cst : memref<8xf32>\n",
       "16|    %7 = alloc() : memref<8xf32>\n",
       "17|    linalg.copy(%6, %7) : memref<8xf32>, memref<8xf32> \n",
       "18|    %8 = load %0[%c0] : memref<?xindex>\n",
       "19|    %9 = load %0[%c1] : memref<?xindex>\n",
       "20|    %10 = load %3[%c0] : memref<?xindex>\n",
       "21|    %11 = load %3[%c1] : memref<?xindex>\n",
       "22|    %12:2 = scf.while (%arg2 = %8, %arg3 = %10) : (index, index) -> (index, index) {\n",
       "23|      %14 = cmpi ult, %arg2, %9 : index\n",
       "24|      %15 = cmpi ult, %arg3, %11 : index\n",
       "25|      %16 = and %14, %15 : i1\n",
       "26|      scf.condition(%16) %arg2, %arg3 : index, index\n",
       "27|    } do {\n",
       "28|    ^bb0(%arg2: index, %arg3: index):  // no predecessors\n",
       "29|      %14 = load %1[%arg2] : memref<?xindex>\n",
       "30|      %15 = load %4[%arg3] : memref<?xindex>\n",
       "31|      %16 = cmpi ult, %15, %14 : index\n",
       "32|      %17 = select %16, %15, %14 : index\n",
       "33|      %18 = cmpi eq, %14, %17 : index\n",
       "34|      %19 = cmpi eq, %15, %17 : index\n",
       "35|      %20 = and %18, %19 : i1\n",
       "36|      scf.if %20 {\n",
       "37|        %27 = load %2[%arg2] : memref<?xf32>\n",
       "38|        %28 = load %5[%arg3] : memref<?xf32>\n",
       "39|        %29 = mulf %27, %28 : f32\n",
       "40|        store %29, %7[%17] : memref<8xf32>\n",
       "41|      } else {\n",
       "42|      }\n",
       "43|      %21 = cmpi eq, %14, %17 : index\n",
       "44|      %22 = addi %arg2, %c1 : index\n",
       "45|      %23 = select %21, %22, %arg2 : index\n",
       "46|      %24 = cmpi eq, %15, %17 : index\n",
       "47|      %25 = addi %arg3, %c1 : index\n",
       "48|      %26 = select %24, %25, %arg3 : index\n",
       "49|      scf.yield %23, %26 : index, index\n",
       "50|    }\n",
       "51|    %13 = tensor_load %7 : memref<8xf32>\n",
       "52|    return %13 : tensor<8xf32>\n",
       "53|  }\n",
       "54|}\n",
       "55|\n",
       "\n",
       "======================================\n",
       "  Input to test-sparsification=lower  \n",
       "======================================\n",
       "\n",
       "#trait_mul_s = {\n",
       "  indexing_maps = [\n",
       "    affine_map<(i) -> (i)>,\n",
       "    affine_map<(i) -> (i)>,\n",
       "    affine_map<(i) -> (i)>\n",
       "  ],\n",
       "  sparse = [\n",
       "    [ \"S\" ],\n",
       "    [ \"S\" ],\n",
       "    [ \"D\" ]\n",
       "  ],\n",
       "  iterator_types = [\"parallel\"],\n",
       "  doc = \"Sparse Vector Multiply\"\n",
       "}\n",
       "\n",
       "!SparseTensor = type !llvm.ptr<i8>\n",
       "func @sparse_vector_multiply(%argA: !SparseTensor, %argB: !SparseTensor) -> tensor<8xf32> {\n",
       "  %output_storage = constant dense<0.0> : tensor<8xf32>\n",
       "  %arga = linalg.sparse_tensor %argA : !SparseTensor to tensor<8xf32>\n",
       "  %argb = linalg.sparse_tensor %argB : !SparseTensor to tensor<8xf32>\n",
       "  %0 = linalg.generic #trait_mul_s\n",
       "    ins(%arga, %argb: tensor<8xf32>, tensor<8xf32>)\n",
       "    outs(%output_storage: tensor<8xf32>) {\n",
       "      ^bb(%a: f32, %b: f32, %x: f32):\n",
       "        %0 = mulf %a, %b : f32\n",
       "        linalg.yield %0 : f32\n",
       "  } -> tensor<8xf32>\n",
       "  return %0 : tensor<8xf32>\n",
       "}"
      ]
     },
     "execution_count": 6,
     "metadata": {},
     "output_type": "execute_result"
    }
   ],
   "source": [
    "result"
   ]
  },
  {
   "cell_type": "markdown",
   "id": "smart-opinion",
   "metadata": {},
   "source": [
    "This large output may seem intimidating due to it's size, but it's mostly just large since it's showing the inputs to each pass. \n",
    "\n",
    "This output gives us some useful information. In particular, it tells us:\n",
    "\n",
    "  * the inputs to each pass in reverse order (the most recently run, and most likely problematic, pass is shown at the top)\n",
    "  * the error occurs in the `func-bufferize` pass\n",
    "  * the problem occurs at line 26 of the input to the `func-bufferize` pass\n",
    "\n",
    "The main error message shown above is \"`failed to legalize operation 'scf.condition'`\". \n",
    "\n",
    "The [MLIR documentation on dialect conversion](https://mlir.llvm.org/docs/DialectConversion/#conversion-target) gives us some useful insight on what the issue might be:\n",
    "\n",
    "  * If a the results of a pass contained an illegal operation, the pass did not succeed.\n",
    "  * The result of the `func-bufferize` pass had `scf.condition`, an illegal operation for the `func-bufferize` pass, on line 26.\n",
    "\n",
    "If we look at `func-bufferize`'s [MLIR documentation](https://mlir.llvm.org/docs/Passes/#-func-bufferize-bufferize-funccallreturn-ops), we'll see that it's intended to bufferize `std.func` and `std.call` operations. Note that the documentation says nothing about how the `func-bufferize` is supposed to handle any `scf` operations.\n",
    "\n",
    "Since it's the error comes from the fact that `scf.condition` was passed into `func-bufferize` and that `scf.condition` was not handled (the documentation hints that it is not intended to be), it would make sense that we not pass MLIR code with `scf.condition` as input to the `func-bufferize` pass.\n",
    "\n",
    "`func-bufferize`'s [MLIR documentation](https://mlir.llvm.org/docs/Passes/#-func-bufferize-bufferize-funccallreturn-ops) makes it sound like it's intended to only handle operations from the `std` dialect. Let's see if there are any passes that'll convert `scf` operations to `std` operations. Since our `MlirOptCli` instance, i.e. the variable `cli` in our Python code, uses the default executable, i.e. `mlir-opt`, we can see what passes are available by looking at `mlir-opt`'s help menu. \n",
    "\n",
    "We won't show the full `mlir-opt` help menu here since it's very large but will instead do a `grep` search on it to see if there's anything mentioning `std`."
   ]
  },
  {
   "cell_type": "code",
   "execution_count": 7,
   "id": "central-timeline",
   "metadata": {},
   "outputs": [
    {
     "name": "stdout",
     "output_type": "stream",
     "text": [
      "Available Dialects: acc, affine, arm_neon, arm_sve, async, avx512, complex, gpu, linalg, llvm, llvm_arm_neon, llvm_arm_sve, llvm_avx512, math, nvvm, omp, pdl, pdl_interp, quant, rocdl, scf, sdbm, shape, spv, std, tensor, test, tosa, vector\n",
      "      --convert-linalg-to-std                           -   Convert the operations from the linalg dialect into the Standard dialect\n",
      "      --convert-scf-to-std                              -   Convert SCF dialect to Standard dialect, replacing structured control flow with a CFG\n",
      "      --convert-shape-to-std                            -   Convert operations from the shape dialect into the standard dialect\n",
      "      --convert-std-to-llvm                             -   Convert scalar and vector operations from the Standard to the LLVM dialect\n",
      "      --convert-std-to-spirv                            -   Convert Standard dialect to SPIR-V dialect\n",
      "      --legalize-std-for-spirv                          -   Legalize standard ops for SPIR-V lowering\n",
      "      --std-bufferize                                   -   Bufferize the std dialect\n",
      "      --std-expand                                      -   Legalize std operations to be convertible to LLVM.\n",
      "      --test-convert-call-op                            -   Tests conversion of `std.call` to `llvm.call` in presence of custom types\n"
     ]
    }
   ],
   "source": [
    "!mlir-opt --help | grep \"std\""
   ]
  },
  {
   "cell_type": "markdown",
   "id": "lesser-round",
   "metadata": {},
   "source": [
    "The pass `convert-scf-to-std` seems promising as it intends to convert the `scf` dialect to `std` dialect. \n",
    "\n",
    "Let's see if running the `convert-scf-to-std` pass right before the `func-bufferize` pass will get rid of our exception. "
   ]
  },
  {
   "cell_type": "code",
   "execution_count": 8,
   "id": "ideal-disposal",
   "metadata": {},
   "outputs": [
    {
     "name": "stdout",
     "output_type": "stream",
     "text": [
      "module attributes {llvm.data_layout = \"\"}  {\n",
      "  llvm.func @malloc(i64) -> !llvm.ptr<i8>\n",
      "  llvm.mlir.global private constant @__constant_8xf32(dense<0.000000e+00> : tensor<8xf32>) : !llvm.array<8 x f32>\n",
      "  llvm.func @sparseValuesF32(!llvm.ptr<i8>) -> !llvm.struct<(ptr<f32>, ptr<f32>, i64, array<1 x i64>, array<1 x i64>)> attributes {sym_visibility = \"private\"}\n",
      "  llvm.func @sparseIndices64(!llvm.ptr<i8>, i64) -> !llvm.struct<(ptr<i64>, ptr<i64>, i64, array<1 x i64>, array<1 x i64>)> attributes {sym_\n"
     ]
    }
   ],
   "source": [
    "passes = [\n",
    "    \"--test-sparsification=lower\",\n",
    "    \"--linalg-bufferize\",\n",
    "    \"--convert-scf-to-std\", # we added this pass\n",
    "    \"--func-bufferize\",\n",
    "    \"--tensor-bufferize\",\n",
    "    \"--tensor-constant-bufferize\",\n",
    "    \"--finalizing-bufferize\",\n",
    "    \"--convert-linalg-to-loops\",\n",
    "    \"--convert-scf-to-std\",\n",
    "    \"--convert-std-to-llvm\",\n",
    "]\n",
    "result = cli.apply_passes(mlir_bytes, passes)\n",
    "print(result[:500])"
   ]
  },
  {
   "cell_type": "markdown",
   "id": "cooperative-parks",
   "metadata": {},
   "source": [
    "This fixes our issue, but it's not exactly clear that this is the best solution. \n",
    "\n",
    "Since phase ordering is an open problem in compilers research, we can't be sure that where we put ran pass in the correct place.\n",
    "\n",
    "We know that immediately before the `func-bufferize` pass is the latest place we can run the `convert-scf-to-std` pass and maintain correctness.\n",
    "\n",
    "It would be nice to know the earliest place we can run the `convert-scf-to-std` pass. Let's find out where `scf.condition` operation came from. \n",
    "\n",
    "If we look at the information shown by `cli.debug_passes(mlir_bytes, passes)` earlier, we'll see the inputs to all the passes. We will also see that the first occurrence of `scf.condition` came as an input to the `linalg-bufferize` pass. This means that `scf.condition` was generated by the pass that was run right before the `linalg-bufferize` pass, i.e. the `test-sparsification=lower` pass. This means that the earliest place we can put the `convert-scf-to-std` pass is after the `test-sparsification=lower` pass.\n",
    "\n",
    "Thus, there are two options for the orderings of our passes. "
   ]
  },
  {
   "cell_type": "code",
   "execution_count": 9,
   "id": "juvenile-experiment",
   "metadata": {},
   "outputs": [],
   "source": [
    "pass_list_1 = [\n",
    "    \"--test-sparsification=lower\",\n",
    "    \"--convert-scf-to-std\", # comes second in the list\n",
    "    \"--linalg-bufferize\",\n",
    "    \"--func-bufferize\",\n",
    "    \"--tensor-bufferize\",\n",
    "    \"--tensor-constant-bufferize\",\n",
    "    \"--finalizing-bufferize\",\n",
    "    \"--convert-linalg-to-loops\",\n",
    "    \"--convert-scf-to-std\",\n",
    "    \"--convert-std-to-llvm\",\n",
    "]\n",
    "pass_list_2 = [\n",
    "    \"--test-sparsification=lower\",\n",
    "    \"--linalg-bufferize\",\n",
    "    \"--convert-scf-to-std\", # comes third in the list\n",
    "    \"--func-bufferize\",\n",
    "    \"--tensor-bufferize\",\n",
    "    \"--tensor-constant-bufferize\",\n",
    "    \"--finalizing-bufferize\",\n",
    "    \"--convert-linalg-to-loops\",\n",
    "    \"--convert-scf-to-std\",\n",
    "    \"--convert-std-to-llvm\",\n",
    "]"
   ]
  },
  {
   "cell_type": "markdown",
   "id": "reflected-madrid",
   "metadata": {},
   "source": [
    "Let's get the final lowered code of both. "
   ]
  },
  {
   "cell_type": "code",
   "execution_count": 10,
   "id": "interpreted-patent",
   "metadata": {},
   "outputs": [],
   "source": [
    "result_1 = cli.apply_passes(mlir_bytes, pass_list_1)\n",
    "result_2 = cli.apply_passes(mlir_bytes, pass_list_2)"
   ]
  },
  {
   "cell_type": "markdown",
   "id": "offshore-interface",
   "metadata": {},
   "source": [
    "Let's see if they are any different. "
   ]
  },
  {
   "cell_type": "code",
   "execution_count": 11,
   "id": "toxic-directive",
   "metadata": {},
   "outputs": [
    {
     "data": {
      "text/plain": [
       "True"
      ]
     },
     "execution_count": 11,
     "metadata": {},
     "output_type": "execute_result"
    }
   ],
   "source": [
    "result_1 == result_2"
   ]
  },
  {
   "cell_type": "markdown",
   "id": "statistical-warren",
   "metadata": {},
   "source": [
    "It seems that both pass orderings create the same lowered code, so (at least for the input MLIR code used in this example) whether we put the `convert-scf-to-std` second or third in the list doesn't matter. "
   ]
  }
 ],
 "metadata": {
  "kernelspec": {
   "display_name": "Python 3",
   "language": "python",
   "name": "python3"
  },
  "language_info": {
   "codemirror_mode": {
    "name": "ipython",
    "version": 3
   },
   "file_extension": ".py",
   "mimetype": "text/x-python",
   "name": "python",
   "nbconvert_exporter": "python",
   "pygments_lexer": "ipython3",
   "version": "3.8.8"
  }
 },
 "nbformat": 4,
 "nbformat_minor": 5
}
