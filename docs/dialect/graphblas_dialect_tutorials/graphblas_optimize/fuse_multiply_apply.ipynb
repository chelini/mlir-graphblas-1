{
 "cells": [
  {
   "cell_type": "markdown",
   "id": "01ea7794",
   "metadata": {},
   "source": [
    "# Fusing graphblas.matrix_multiply with graphblas.matrix_apply\n",
    "\n",
    "This example will go over how to use the `--graphblas-optimize` pass from `graphblas-opt` to fuse `graphblas.matrix_multiply` ops with `graphblas.matrix_apply` ops into `graphblas.matrix_multiply` ops with a region attached.\n",
    "\n",
    "Let's first import some necessary libraries."
   ]
  },
  {
   "cell_type": "code",
   "execution_count": 1,
   "id": "c6dfc765",
   "metadata": {},
   "outputs": [],
   "source": [
    "import tempfile\n",
    "from mlir_graphblas.cli import GRAPHBLAS_OPT_EXE"
   ]
  },
  {
   "cell_type": "markdown",
   "id": "86ef189e",
   "metadata": {},
   "source": [
    "Since [sparse tensor encodings](https://mlir.llvm.org/docs/Dialects/SparseTensorOps/#sparsetensorencodingattr) can be very verbose in MLIR, let's write some helpers to make the MLIR code more readable."
   ]
  },
  {
   "cell_type": "code",
   "execution_count": 2,
   "id": "4233b87f",
   "metadata": {},
   "outputs": [],
   "source": [
    "def tersify_mlir(input_string: str) -> str:\n",
    "    terse_string = input_string\n",
    "    terse_string = terse_string.replace(\n",
    "        '''#sparse_tensor.encoding<{ '''\n",
    "        '''dimLevelType = [ \"dense\", \"compressed\" ], '''\n",
    "        '''dimOrdering = affine_map<(d0, d1) -> (d0, d1)>, '''\n",
    "        '''pointerBitWidth = 64, '''\n",
    "        '''indexBitWidth = 64 '''\n",
    "        '''}>''', \n",
    "        \"#CSR64\")\n",
    "    terse_string = terse_string.replace(\n",
    "        '''#sparse_tensor.encoding<{ '''\n",
    "        '''dimLevelType = [ \"dense\", \"compressed\" ], '''\n",
    "        '''dimOrdering = affine_map<(d0, d1) -> (d1, d0)>, '''\n",
    "        '''pointerBitWidth = 64, '''\n",
    "        '''indexBitWidth = 64 '''\n",
    "        '''}>''', \n",
    "        \"#CSC64\")\n",
    "    return terse_string"
   ]
  },
  {
   "cell_type": "markdown",
   "id": "b5d9716d",
   "metadata": {},
   "source": [
    "## Fusion Details\n",
    "\n",
    "Recall that `graphblas.matrix_multiply` can take an optional region, e.g. this code squares each element of the matrix multiply product:\n",
    "```\n",
    "%answer = graphblas.matrix_multiply %argA, %argB { semiring = \"plus_times\" } : (tensor<?x?xf64, #CSR64>, tensor<?x?xf64, #CSC64>) to tensor<?x?xf64, #CSR64> {\n",
    "        ^bb0(%value: f64):\n",
    "            %result = std.mulf %value, %value: f64\n",
    "            graphblas.yield %result : f64\n",
    "    }\n",
    "```\n",
    "\n",
    "Since `graphblas.matrix_apply` ops only change tensors in an element-wise fashion, we can perform these element-wise changes in the region of a `graphblas.matrix_multiply` op if the `graphblas.matrix_apply` op is run on the result of a `graphblas.matrix_multiply` op."
   ]
  },
  {
   "cell_type": "markdown",
   "id": "7db75a69",
   "metadata": {},
   "source": [
    "## Simple Fusion\n",
    "\n",
    "Here, we'll show the simplest example of how we can fuse a `graphblas.matrix_multiply` op with a `graphblas.matrix_apply` op."
   ]
  },
  {
   "cell_type": "code",
   "execution_count": 3,
   "id": "b4a6fbea",
   "metadata": {},
   "outputs": [
    {
     "name": "stdout",
     "output_type": "stream",
     "text": [
      "module  {\n",
      "  func @fuse_adjacent(%arg0: tensor<?x?xf64, #CSR64>, %arg1: tensor<?x?xf64, #CSC64>, %arg2: f64) -> tensor<?x?xf64, #CSR64> {\n",
      "    %0 = graphblas.matrix_multiply %arg0, %arg1 {semiring = \"plus_plus\"} : (tensor<?x?xf64, #CSR64>, tensor<?x?xf64, #CSC64>) to tensor<?x?xf64, #CSR64>  {\n",
      "    ^bb0(%arg3: f64):  // no predecessors\n",
      "      %1 = cmpf olt, %arg3, %arg2 : f64\n",
      "      %2 = select %1, %arg3, %arg2 : f64\n",
      "      graphblas.yield %2 : f64\n",
      "    }\n",
      "    return %0 : tensor<?x?xf64, #CSR64>\n",
      "  }\n",
      "}\n",
      "\n"
     ]
    }
   ],
   "source": [
    "mlir_text = \"\"\"\n",
    "#CSR64 = #sparse_tensor.encoding<{\n",
    "  dimLevelType = [ \"dense\", \"compressed\" ],\n",
    "  dimOrdering = affine_map<(i,j) -> (i,j)>,\n",
    "  pointerBitWidth = 64,\n",
    "  indexBitWidth = 64\n",
    "}>\n",
    "\n",
    "#CSC64 = #sparse_tensor.encoding<{\n",
    "  dimLevelType = [ \"dense\", \"compressed\" ],\n",
    "  dimOrdering = affine_map<(i,j) -> (j,i)>,\n",
    "  pointerBitWidth = 64,\n",
    "  indexBitWidth = 64\n",
    "}>\n",
    "\n",
    "func @fuse_adjacent(%A: tensor<?x?xf64, #CSR64>, %B: tensor<?x?xf64, #CSC64>, %thunk: f64) -> tensor<?x?xf64, #CSR64> {\n",
    "    %C = graphblas.matrix_multiply %A, %B { semiring = \"plus_plus\" } : (tensor<?x?xf64, #CSR64>, tensor<?x?xf64, #CSC64>) to tensor<?x?xf64, #CSR64> \n",
    "    %apply_result = graphblas.matrix_apply %C, %thunk { apply_operator = \"min\" } : (tensor<?x?xf64, #CSR64>, f64) to tensor<?x?xf64, #CSR64>\n",
    "    return %apply_result : tensor<?x?xf64, #CSR64>\n",
    "}\n",
    "\"\"\"\n",
    "\n",
    "with tempfile.NamedTemporaryFile() as temp:\n",
    "    temp_file_name = temp.name\n",
    "    with open(temp_file_name, 'w') as f:\n",
    "        f.write(mlir_text)\n",
    "    temp.flush()\n",
    "\n",
    "    output_mlir = ! cat $temp_file_name | $GRAPHBLAS_OPT_EXE --graphblas-optimize\n",
    "    output_mlir = \"\\n\".join(output_mlir)\n",
    "    output_mlir = tersify_mlir(output_mlir)\n",
    "\n",
    "print(output_mlir)"
   ]
  },
  {
   "cell_type": "markdown",
   "id": "4db3f48e",
   "metadata": {},
   "source": [
    "The code in the region attached to the `graphblas.matrix_multiply` in the lowered MLIR here may seem confusing at first, but it's simply calculating the minimum of each element (i.e. `%arg3`) and the thunk (i.e. `%thunk` or `%arg2`)."
   ]
  },
  {
   "cell_type": "markdown",
   "id": "6db32140",
   "metadata": {},
   "source": [
    "## Simple Fusion with Mask\n",
    "\n",
    "Fusion of `graphblas.matrix_multiply` ops with `graphblas.matrix_apply` ops also works if the `graphblas.matrix_multiply` use takes a mask. "
   ]
  },
  {
   "cell_type": "code",
   "execution_count": 4,
   "id": "b54ca16c",
   "metadata": {},
   "outputs": [
    {
     "name": "stdout",
     "output_type": "stream",
     "text": [
      "module  {\n",
      "  func @fuse_adjacent_with_mask(%arg0: tensor<?x?xf64, #CSR64>, %arg1: tensor<?x?xf64, #CSC64>, %arg2: f64) -> tensor<?x?xf64, #CSR64> {\n",
      "    %0 = graphblas.matrix_multiply %arg0, %arg1, %arg0 {semiring = \"plus_pair\"} : (tensor<?x?xf64, #CSR64>, tensor<?x?xf64, #CSC64>, tensor<?x?xf64, #CSR64>) to tensor<?x?xf64, #CSR64>  {\n",
      "    ^bb0(%arg3: f64):  // no predecessors\n",
      "      %1 = cmpf olt, %arg3, %arg2 : f64\n",
      "      %2 = select %1, %arg3, %arg2 : f64\n",
      "      graphblas.yield %2 : f64\n",
      "    }\n",
      "    return %0 : tensor<?x?xf64, #CSR64>\n",
      "  }\n",
      "}\n",
      "\n"
     ]
    }
   ],
   "source": [
    "mlir_text = \"\"\"\n",
    "#CSR64 = #sparse_tensor.encoding<{\n",
    "  dimLevelType = [ \"dense\", \"compressed\" ],\n",
    "  dimOrdering = affine_map<(i,j) -> (i,j)>,\n",
    "  pointerBitWidth = 64,\n",
    "  indexBitWidth = 64\n",
    "}>\n",
    "\n",
    "#CSC64 = #sparse_tensor.encoding<{\n",
    "  dimLevelType = [ \"dense\", \"compressed\" ],\n",
    "  dimOrdering = affine_map<(i,j) -> (j,i)>,\n",
    "  pointerBitWidth = 64,\n",
    "  indexBitWidth = 64\n",
    "}>\n",
    "\n",
    "func @fuse_adjacent_with_mask(%A: tensor<?x?xf64, #CSR64>, %B: tensor<?x?xf64, #CSC64>, %thunk: f64) -> tensor<?x?xf64, #CSR64> {\n",
    "    %C = graphblas.matrix_multiply %A, %B, %A { semiring = \"plus_pair\" } : (tensor<?x?xf64, #CSR64>, tensor<?x?xf64, #CSC64>, tensor<?x?xf64, #CSR64>) to tensor<?x?xf64, #CSR64> \n",
    "    %apply_result = graphblas.matrix_apply %C, %thunk { apply_operator = \"min\" } : (tensor<?x?xf64, #CSR64>, f64) to tensor<?x?xf64, #CSR64>\n",
    "    return %apply_result : tensor<?x?xf64, #CSR64>\n",
    "}\n",
    "\"\"\"\n",
    "\n",
    "with tempfile.NamedTemporaryFile() as temp:\n",
    "    temp_file_name = temp.name\n",
    "    with open(temp_file_name, 'w') as f:\n",
    "        f.write(mlir_text)\n",
    "    temp.flush()\n",
    "\n",
    "    output_mlir = ! cat $temp_file_name | $GRAPHBLAS_OPT_EXE --graphblas-optimize\n",
    "    output_mlir = \"\\n\".join(output_mlir)\n",
    "    output_mlir = tersify_mlir(output_mlir)\n",
    "\n",
    "print(output_mlir)"
   ]
  },
  {
   "cell_type": "markdown",
   "id": "8455605d",
   "metadata": {},
   "source": [
    "## Non-applicable Fusion\n",
    "\n",
    "One thing to note is that if the result of any intermediate values of the ops being fused, e.g. the result of a `graphblas.matrix_multiply`, is used elsewhere, the fusion cannot and will not apply as shown here. "
   ]
  },
  {
   "cell_type": "code",
   "execution_count": 5,
   "id": "0f41637d",
   "metadata": {},
   "outputs": [
    {
     "name": "stdout",
     "output_type": "stream",
     "text": [
      "module  {\n",
      "  func @nofuse_multi_use(%arg0: tensor<?x?xf64, #CSR64>, %arg1: tensor<?x?xf64, #CSC64>, %arg2: f64) -> (tensor<?x?xf64, #CSR64>, tensor<?x?xf64, #CSR64>) {\n",
      "    %0 = graphblas.matrix_multiply %arg0, %arg1 {semiring = \"plus_plus\"} : (tensor<?x?xf64, #CSR64>, tensor<?x?xf64, #CSC64>) to tensor<?x?xf64, #CSR64>\n",
      "    %1 = graphblas.matrix_apply %0, %arg2 {apply_operator = \"min\"} : (tensor<?x?xf64, #CSR64>, f64) to tensor<?x?xf64, #CSR64>\n",
      "    return %1, %0 : tensor<?x?xf64, #CSR64>, tensor<?x?xf64, #CSR64>\n",
      "  }\n",
      "}\n",
      "\n"
     ]
    }
   ],
   "source": [
    "mlir_text = \"\"\"\n",
    "#CSR64 = #sparse_tensor.encoding<{\n",
    "  dimLevelType = [ \"dense\", \"compressed\" ],\n",
    "  dimOrdering = affine_map<(i,j) -> (i,j)>,\n",
    "  pointerBitWidth = 64,\n",
    "  indexBitWidth = 64\n",
    "}>\n",
    "\n",
    "#CSC64 = #sparse_tensor.encoding<{\n",
    "  dimLevelType = [ \"dense\", \"compressed\" ],\n",
    "  dimOrdering = affine_map<(i,j) -> (j,i)>,\n",
    "  pointerBitWidth = 64,\n",
    "  indexBitWidth = 64\n",
    "}>\n",
    "\n",
    "func @nofuse_multi_use(%A: tensor<?x?xf64, #CSR64>, %B: tensor<?x?xf64, #CSC64>, %thunk: f64) -> (tensor<?x?xf64, #CSR64>, tensor<?x?xf64, #CSR64>) {\n",
    "    %C = graphblas.matrix_multiply %A, %B { semiring = \"plus_plus\" } : (tensor<?x?xf64, #CSR64>, tensor<?x?xf64, #CSC64>) to tensor<?x?xf64, #CSR64> \n",
    "    %apply_result = graphblas.matrix_apply %C, %thunk { apply_operator = \"min\" } : (tensor<?x?xf64, #CSR64>, f64) to tensor<?x?xf64, #CSR64>\n",
    "    return %apply_result, %C : tensor<?x?xf64, #CSR64>, tensor<?x?xf64, #CSR64>\n",
    "}\n",
    "\"\"\"\n",
    "\n",
    "with tempfile.NamedTemporaryFile() as temp:\n",
    "    temp_file_name = temp.name\n",
    "    with open(temp_file_name, 'w') as f:\n",
    "        f.write(mlir_text)\n",
    "    temp.flush()\n",
    "\n",
    "    output_mlir = ! cat $temp_file_name | $GRAPHBLAS_OPT_EXE --graphblas-optimize\n",
    "    output_mlir = \"\\n\".join(output_mlir)\n",
    "    output_mlir = tersify_mlir(output_mlir)\n",
    "\n",
    "print(output_mlir)"
   ]
  }
 ],
 "metadata": {
  "kernelspec": {
   "display_name": "Python 3",
   "language": "python",
   "name": "python3"
  },
  "language_info": {
   "codemirror_mode": {
    "name": "ipython",
    "version": 3
   },
   "file_extension": ".py",
   "mimetype": "text/x-python",
   "name": "python",
   "nbconvert_exporter": "python",
   "pygments_lexer": "ipython3",
   "version": "3.8.10"
  }
 },
 "nbformat": 4,
 "nbformat_minor": 5
}
